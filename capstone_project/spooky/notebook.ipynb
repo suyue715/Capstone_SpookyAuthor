{
 "cells": [
  {
   "cell_type": "markdown",
   "metadata": {
    "_cell_guid": "0ce6c553-4a20-456f-bdbb-832ef9daaf33",
    "_uuid": "14e7f4c7d2fefdf41d615db1202a468ab0f2e616"
   },
   "source": [
    "**1. Project objective: **Identify the author of the sentences in the test set.\n",
    "\n",
    "**2. Dataset:**  Works of fiction written by spooky authors of the public domain: Edgar Allan Poe, HP Lovecraft and Mary Shelley\n",
    "\n",
    "**3. Initial EDA: **Variable distributions, correlations, etc\n",
    "\n",
    "**4.Train/Test Split**\n",
    "\n",
    "**5.Preprocessing performed on Training set:** data types converted, missing data handled, dummy variables created, data parsed for errors\n",
    "\n",
    "**6.-Initial model created**\n",
    "\n",
    "**7.-Initial model evaluated appropriately (R^2, RMSE, MAE, or Precision/Recall/F1)**\n",
    "\n",
    "some reference: https://www.kaggle.com/anokas/data-analysis-xgboost-starter-0-35460-lb"
   ]
  },
  {
   "cell_type": "code",
   "execution_count": 1,
   "metadata": {
    "_cell_guid": "1e55867a-f217-4b94-8df0-c30d101e9a8c",
    "_uuid": "8808078966f54742cd89bd27e53234b44118cddc"
   },
   "outputs": [
    {
     "ename": "ModuleNotFoundError",
     "evalue": "No module named 'textblob'",
     "output_type": "error",
     "traceback": [
      "\u001b[0;31m---------------------------------------------------------------------------\u001b[0m",
      "\u001b[0;31mModuleNotFoundError\u001b[0m                       Traceback (most recent call last)",
      "\u001b[0;32m<ipython-input-1-e64638d57320>\u001b[0m in \u001b[0;36m<module>\u001b[0;34m()\u001b[0m\n\u001b[1;32m     15\u001b[0m \u001b[0;32mfrom\u001b[0m \u001b[0msklearn\u001b[0m\u001b[0;34m.\u001b[0m\u001b[0mfeature_extraction\u001b[0m\u001b[0;34m.\u001b[0m\u001b[0mtext\u001b[0m \u001b[0;32mimport\u001b[0m \u001b[0mTfidfVectorizer\u001b[0m\u001b[0;34m\u001b[0m\u001b[0m\n\u001b[1;32m     16\u001b[0m \u001b[0;32mfrom\u001b[0m \u001b[0msklearn\u001b[0m\u001b[0;34m.\u001b[0m\u001b[0mdecomposition\u001b[0m \u001b[0;32mimport\u001b[0m \u001b[0mTruncatedSVD\u001b[0m\u001b[0;34m\u001b[0m\u001b[0m\n\u001b[0;32m---> 17\u001b[0;31m \u001b[0;32mfrom\u001b[0m \u001b[0mtextblob\u001b[0m \u001b[0;32mimport\u001b[0m \u001b[0mTextBlob\u001b[0m\u001b[0;34m\u001b[0m\u001b[0m\n\u001b[0m\u001b[1;32m     18\u001b[0m \u001b[0;32mfrom\u001b[0m \u001b[0mcollections\u001b[0m \u001b[0;32mimport\u001b[0m \u001b[0mCounter\u001b[0m\u001b[0;34m\u001b[0m\u001b[0m\n\u001b[1;32m     19\u001b[0m \u001b[0;32mfrom\u001b[0m \u001b[0mnltk\u001b[0m\u001b[0;34m.\u001b[0m\u001b[0mcorpus\u001b[0m \u001b[0;32mimport\u001b[0m \u001b[0mstopwords\u001b[0m\u001b[0;34m\u001b[0m\u001b[0m\n",
      "\u001b[0;31mModuleNotFoundError\u001b[0m: No module named 'textblob'"
     ]
    }
   ],
   "source": [
    "# This Python 3 environment comes with many helpful analytics libraries installed\n",
    "# It is defined by the kaggle/python docker image: https://github.com/kaggle/docker-python\n",
    "# For example, here's several helpful packages to load in \n",
    "\n",
    "import numpy as np # linear algebra\n",
    "import pandas as pd # data processing, CSV file I/O (e.g. pd.read_csv)\n",
    "import seaborn as sns\n",
    "from sklearn.model_selection import train_test_split\n",
    "from sklearn.linear_model import LinearRegression\n",
    "from sklearn.ensemble import RandomForestClassifier\n",
    "from sklearn.model_selection import train_test_split\n",
    "from sklearn.metrics import confusion_matrix, classification_report\n",
    "from sklearn.feature_extraction.text import CountVectorizer\n",
    "from sklearn.decomposition import LatentDirichletAllocation\n",
    "from sklearn.feature_extraction.text import TfidfVectorizer\n",
    "from sklearn.decomposition import TruncatedSVD\n",
    "from textblob import TextBlob\n",
    "from collections import Counter\n",
    "from nltk.corpus import stopwords\n",
    "from nltk.tokenize import word_tokenize \n",
    "from nltk.stem import SnowballStemmer\n",
    "import numpy as np\n",
    "import pandas as pd\n",
    "import matplotlib.pyplot as plt\n",
    "%matplotlib inline\n",
    "# Input data files are available in the \"../input/\" directory.\n",
    "# For example, running this (by clicking run or pressing Shift+Enter) will list the files in the input directory\n",
    "\n",
    "from subprocess import check_output\n",
    "print(check_output([\"ls\", \"../input\"]).decode(\"utf8\"))\n",
    "\n",
    "# Any results you write to the current directory are saved as output.\n",
    "\n"
   ]
  },
  {
   "cell_type": "code",
   "execution_count": null,
   "metadata": {
    "_cell_guid": "3626b583-2adc-446f-9582-489734656c28",
    "_uuid": "18e02d1efa9af4c3e6f05ecb5aa05c4f19b0dca7",
    "collapsed": true
   },
   "outputs": [],
   "source": [
    "from keras.preprocessing import sequence\n",
    "from keras.utils import np_utils\n",
    "from keras.models import Sequential\n",
    "from keras.layers import Dense, Dropout, Activation, Embedding\n",
    "from keras.layers import LSTM"
   ]
  },
  {
   "cell_type": "code",
   "execution_count": null,
   "metadata": {
    "_cell_guid": "b8f95573-d48d-4d4f-97d3-7639dc505751",
    "_uuid": "d6ac454966deb57a5b484345b629dc9d6f282928",
    "collapsed": true
   },
   "outputs": [],
   "source": [
    "#Import the train data\n",
    "train = pd.read_csv(\"../input/train.csv\")\n",
    "test=pd.read_csv(\"../input/test.csv\")\n"
   ]
  },
  {
   "cell_type": "code",
   "execution_count": null,
   "metadata": {
    "_cell_guid": "e2ac0dcc-329e-4019-9f13-1412949b39b7",
    "_uuid": "a90badee36b5a8e2aa66119b6579a666531704f0",
    "collapsed": true
   },
   "outputs": [],
   "source": [
    "train.head()"
   ]
  },
  {
   "cell_type": "code",
   "execution_count": null,
   "metadata": {
    "_cell_guid": "115e960b-e80b-4a6c-a5e7-8447d994387d",
    "_uuid": "6635ff4833d5ff4f9535da86255b85da145b8692",
    "collapsed": true
   },
   "outputs": [],
   "source": [
    "train.author.unique()"
   ]
  },
  {
   "cell_type": "markdown",
   "metadata": {
    "_cell_guid": "3dcf3b82-5e07-4f86-ace6-6659733b0b19",
    "_uuid": "476e40c0c3caf33f7da392aa7b269ac2293ff526"
   },
   "source": [
    "id: row id\n",
    "\n",
    "text: authors' writings\n",
    "\n",
    "author: The 3 authors in the author column are represented by 'EAP', 'HPL' and 'MWS'\n"
   ]
  },
  {
   "cell_type": "markdown",
   "metadata": {
    "_cell_guid": "0f3a2397-4a6a-484e-a46a-bbd08640ba46",
    "_uuid": "1c21b3138499c7e5be97db3135de9ca1f6ea9213"
   },
   "source": [
    "**Some Visualizations **"
   ]
  },
  {
   "cell_type": "code",
   "execution_count": null,
   "metadata": {
    "_cell_guid": "095166c7-9458-4345-a1e4-7792ba1ffcaa",
    "_uuid": "cea93147b4167cacc2aa49fa30bb22df6d33506a",
    "collapsed": true
   },
   "outputs": [],
   "source": [
    "#count the author frequencies of training data\n",
    "plt.hist(train.author)\n",
    "plt.title(\"Frequency of Authors Occurence\",fontsize=15)\n",
    "plt.xticks(np.arange(3),(['Edgar Allen Poe', 'Mary Shelley', 'HP Lovecraft']))\n",
    "x_coor = [0,1.8,1]\n",
    "for idx, label in enumerate(train.author.value_counts().index):\n",
    "    cnt = train.author.value_counts()[idx]\n",
    "    plt.text(x_coor[idx], cnt, str(cnt), color='black', fontweight='bold')"
   ]
  },
  {
   "cell_type": "code",
   "execution_count": null,
   "metadata": {
    "_cell_guid": "1800fabd-277e-4584-bb59-8e2176860d5a",
    "_uuid": "597449d9a8cc96e962fcea4fb136ddf71c3b43fe",
    "collapsed": true
   },
   "outputs": [],
   "source": [
    "train_qs = pd.Series(train['text'].tolist()).astype(str)\n",
    "dist_train = train_qs.apply(len)\n",
    "plt.figure(figsize=(15, 10))\n",
    "plt.hist(dist_train, bins=200, range=[0, 200], normed=True,alpha=.7)\n",
    "plt.title('Normalized histogram of character count in text', fontsize=15)\n",
    "plt.legend()\n",
    "plt.xlabel('Number of characters', fontsize=15)\n",
    "plt.ylabel('Probability', fontsize=15)"
   ]
  },
  {
   "cell_type": "code",
   "execution_count": null,
   "metadata": {
    "_cell_guid": "531095d0-3516-4e1f-acd7-518686d1ae31",
    "_uuid": "bf1ab086c882e4997cc0831e379bc520125a902a",
    "collapsed": true,
    "scrolled": false
   },
   "outputs": [],
   "source": [
    "print('mean num',dist_train.mean(),'\\n','std num', dist_train.std(),'\\n',\n",
    "      'min num',dist_train.min(),'\\n','max num', dist_train.max())"
   ]
  },
  {
   "cell_type": "markdown",
   "metadata": {
    "_cell_guid": "eea54f97-54ed-4e0f-b615-a20b88dc80ad",
    "_uuid": "9df1db6c6e5992b2c1b9d5564ac999fd7e3c36dd"
   },
   "source": [
    "The number of characters in each text ranges from 21 to 4663."
   ]
  },
  {
   "cell_type": "code",
   "execution_count": null,
   "metadata": {
    "_cell_guid": "4ad5708f-a6eb-49c9-9594-7b7e2d281d92",
    "_uuid": "bd4d5ab9dc93a41167168f838e0e446e9b0b7fd0",
    "collapsed": true
   },
   "outputs": [],
   "source": [
    "dist_train = train_qs.apply(lambda x: len(x.split(' ')))\n",
    "plt.figure(figsize=(15, 10))\n",
    "plt.hist(dist_train, bins=50, range=[0, 50], normed=True,alpha=.7)\n",
    "plt.title('Normalised histogram of word count in texts', fontsize=15)\n",
    "plt.legend()\n",
    "plt.xlabel('Number of words', fontsize=15)\n",
    "plt.ylabel('Probability', fontsize=15)\n"
   ]
  },
  {
   "cell_type": "code",
   "execution_count": null,
   "metadata": {
    "_cell_guid": "dd4d3c2f-002b-4858-b294-09ee0375e291",
    "_uuid": "512bd328c69d3a921ae16f389726e2977dd9ad8d",
    "collapsed": true
   },
   "outputs": [],
   "source": [
    "print('mean num',dist_train.mean(),'\\n','std num', dist_train.std(),'\\n',\n",
    "      'min num',dist_train.min(),'\\n','max num', dist_train.max())"
   ]
  },
  {
   "cell_type": "markdown",
   "metadata": {
    "_cell_guid": "fe6cd026-03fa-4e49-bc53-9ac69b7edf83",
    "_uuid": "b4b8511d6b504fe595d8cefcd0b91f38325d83c9"
   },
   "source": [
    "The number of words in each text ranges from 2 to 861."
   ]
  },
  {
   "cell_type": "markdown",
   "metadata": {
    "_cell_guid": "f511e48f-4736-455d-a5f6-49aac88df0d7",
    "_uuid": "02b51ca9afd8d9cb10f9b1367c8850f558072cfa"
   },
   "source": [
    "**Wordclouds**"
   ]
  },
  {
   "cell_type": "markdown",
   "metadata": {
    "_cell_guid": "1c8b2011-f2ee-4019-821b-d52d70cc3397",
    "_uuid": "1f141e1044bb94db72c89e53c3248177b81b90e3"
   },
   "source": [
    "wordcloud of text of all 3 authors "
   ]
  },
  {
   "cell_type": "code",
   "execution_count": null,
   "metadata": {
    "_cell_guid": "d387487c-37b5-4fdb-86c3-1c6d7743e2c3",
    "_uuid": "16b0d14eb103ca9833e67b4811dafc60d87cb3c0",
    "collapsed": true
   },
   "outputs": [],
   "source": [
    "from wordcloud import WordCloud\n",
    "from stop_words import get_stop_words\n",
    "\n",
    "stop_words = get_stop_words('en')\n",
    "stop_words = get_stop_words('english')\n",
    "cloud = WordCloud(width=1440, height=1080,stopwords=stop_words).generate(\" \".join(train.text.astype(str)))\n",
    "plt.figure(figsize=(20, 15))\n",
    "plt.imshow(cloud)\n",
    "plt.axis('off')"
   ]
  },
  {
   "cell_type": "code",
   "execution_count": null,
   "metadata": {
    "_cell_guid": "87b51fe9-4305-4699-bda9-f368c6215e82",
    "_uuid": "2c8e96c779fac7181d4631e04685ab91050cd890",
    "collapsed": true
   },
   "outputs": [],
   "source": []
  },
  {
   "cell_type": "code",
   "execution_count": null,
   "metadata": {
    "_cell_guid": "75ad92d9-5877-46ac-8e07-964673abaed4",
    "_uuid": "2f288b28b6583dace03d3f804700d0537d6e2259",
    "collapsed": true
   },
   "outputs": [],
   "source": [
    "#Store the text of each author in a Python list\n",
    "eap = train[train.author==\"EAP\"][\"text\"].values\n",
    "hpl = train[train.author==\"HPL\"][\"text\"].values\n",
    "mws = train[train.author==\"MWS\"][\"text\"].values"
   ]
  },
  {
   "cell_type": "markdown",
   "metadata": {
    "_cell_guid": "f1719a41-13b7-4d25-b45d-191a31c0a746",
    "_uuid": "452b443790630cd622b5ba9bc4b4c730c4b24b93"
   },
   "source": [
    "Edgar Allen Poe"
   ]
  },
  {
   "cell_type": "code",
   "execution_count": null,
   "metadata": {
    "_cell_guid": "167cbcc6-1197-47cd-8e18-529d7c9f153c",
    "_uuid": "20ae9e4fe4c629770db02631f65163b149b98fd7",
    "collapsed": true
   },
   "outputs": [],
   "source": [
    "cloud = WordCloud(width=1440, height=1080,stopwords=stop_words).generate(\" \".join(eap.astype(str)))\n",
    "plt.figure(figsize=(20, 15))\n",
    "plt.imshow(cloud)\n",
    "plt.axis('off')"
   ]
  },
  {
   "cell_type": "markdown",
   "metadata": {
    "_cell_guid": "2dbefca1-dea0-4418-8815-7617b8f55abf",
    "_uuid": "35b56e7d2dcdb11e15a735bb1039934da783be94"
   },
   "source": [
    "HP Lovecraft"
   ]
  },
  {
   "cell_type": "code",
   "execution_count": null,
   "metadata": {
    "_cell_guid": "c87900ab-a6ae-4dbe-b727-b73f06f8002a",
    "_uuid": "29f8cc2a3f569d146dd4cb3030bfe114d4e02b66",
    "collapsed": true
   },
   "outputs": [],
   "source": [
    "cloud = WordCloud(width=1440, height=1080,stopwords=stop_words).generate(\" \".join(hpl.astype(str)))\n",
    "plt.figure(figsize=(20, 15))\n",
    "plt.imshow(cloud)\n",
    "plt.axis('off')"
   ]
  },
  {
   "cell_type": "markdown",
   "metadata": {
    "_cell_guid": "a37bcbb8-bede-42b9-9bb4-8d9e752eb725",
    "_uuid": "cc0eb300b60c34712c1c99f83253489fcaaa8b7a"
   },
   "source": [
    "Mary Shelley"
   ]
  },
  {
   "cell_type": "code",
   "execution_count": null,
   "metadata": {
    "_cell_guid": "03a2ef33-dfd1-4f24-840a-b7499f837c3d",
    "_uuid": "35df11ff40ee30f8f7e6ef74be9dc977c596a5a7",
    "collapsed": true
   },
   "outputs": [],
   "source": [
    "cloud = WordCloud(width=1440, height=1080,stopwords=stop_words).generate(\" \".join(mws.astype(str)))\n",
    "plt.figure(figsize=(20, 15))\n",
    "plt.imshow(cloud)\n",
    "plt.axis('off')"
   ]
  },
  {
   "cell_type": "code",
   "execution_count": null,
   "metadata": {
    "_cell_guid": "0e6432de-9d52-4732-9246-655a09002ea5",
    "_uuid": "6364617167b064823bb1b6ef7867ae8698963f97",
    "collapsed": true
   },
   "outputs": [],
   "source": []
  },
  {
   "cell_type": "markdown",
   "metadata": {
    "_cell_guid": "36917b5d-3283-4f27-a14e-61c7b38a6bef",
    "_uuid": "b1177c3c6bfd8c00aed699e9f10dd1968c602cdf"
   },
   "source": [
    "Preprocessing"
   ]
  },
  {
   "cell_type": "code",
   "execution_count": null,
   "metadata": {
    "_cell_guid": "0acb1d18-5aa8-4096-a3e9-ac7c13961496",
    "_uuid": "a1c9b82eb34332a1f245da0f4ccc0f42013d3568",
    "collapsed": true
   },
   "outputs": [],
   "source": [
    "train['author_num']=train['author'].apply({'EAP':0,  'MWS':1,  'HPL':2}.get)"
   ]
  },
  {
   "cell_type": "code",
   "execution_count": null,
   "metadata": {
    "_cell_guid": "5e108737-fae4-4567-a9e2-e861031f0167",
    "_uuid": "b6d3056a51c9f49fec5addbced01d384fab33087",
    "collapsed": true
   },
   "outputs": [],
   "source": [
    "train.head()"
   ]
  },
  {
   "cell_type": "code",
   "execution_count": null,
   "metadata": {
    "_cell_guid": "6d7c0945-9ce1-4f40-a1a4-de85aebc42f7",
    "_uuid": "36e8cbc9e60a215a0035f345c69b4eeb8c811598",
    "collapsed": true
   },
   "outputs": [],
   "source": [
    "raw_text_train=train['text'].values\n",
    "raw_text_test=test['text'].values\n",
    "author_train=train['author_num'].values\n",
    "num_labels = len(np.unique(author_train))"
   ]
  },
  {
   "cell_type": "code",
   "execution_count": null,
   "metadata": {
    "_cell_guid": "d9e7bbce-9143-40e1-886a-47add9d6b4f1",
    "_uuid": "35868786086f899e75ef23dda818f83878910434",
    "collapsed": true
   },
   "outputs": [],
   "source": [
    "num_labels"
   ]
  },
  {
   "cell_type": "code",
   "execution_count": null,
   "metadata": {
    "_cell_guid": "8fd783c0-0e8b-4a77-8c9c-ec0de56adf75",
    "_uuid": "2a3e064fef287bc55a25e3b6a22b8e5f97b06476",
    "collapsed": true
   },
   "outputs": [],
   "source": [
    " #text pre-processing\n",
    "stop_words = set(stopwords.words('english'))\n",
    "stop_words.update(['.', ',', '\"', \"'\", ':', ';', '(', ')', '[', ']', '{', '}'])\n",
    "stemmer = SnowballStemmer('english')\n"
   ]
  },
  {
   "cell_type": "code",
   "execution_count": null,
   "metadata": {
    "_cell_guid": "c68da5d0-3692-4529-8783-227cf9754be2",
    "_uuid": "f1e3dfa74eee61c0570ef8bf350779f56bdcc5a1",
    "collapsed": true
   },
   "outputs": [],
   "source": [
    "print (\"pre-processing train docs...\")\n",
    "processed_train = []\n",
    "for doc in raw_text_train:\n",
    "    tokens = word_tokenize(doc)\n",
    "    filtered = [word for word in tokens if word not in stop_words]\n",
    "    stemmed = [stemmer.stem(word) for word in filtered]\n",
    "    processed_train.append(stemmed)"
   ]
  },
  {
   "cell_type": "code",
   "execution_count": null,
   "metadata": {
    "_cell_guid": "ca9a55e7-523d-4061-ac2f-0948c442d813",
    "_uuid": "d9767c8b41771fba2e5c959078d15719b5e30cc5",
    "collapsed": true
   },
   "outputs": [],
   "source": [
    "print (\"pre-processing test docs...\")\n",
    "processed_test = []\n",
    "for doc in raw_text_test:\n",
    "    tokens = word_tokenize(doc)\n",
    "    filtered = [word for word in tokens if word not in stop_words]\n",
    "    stemmed = [stemmer.stem(word) for word in filtered]\n",
    "    processed_test.append(stemmed)"
   ]
  },
  {
   "cell_type": "code",
   "execution_count": null,
   "metadata": {
    "_cell_guid": "5f01df4b-81d8-4f50-bb7e-7081ab037eb4",
    "_uuid": "0009af143a7baf4fd6ac9f5b0512bb2fe95f46ec",
    "collapsed": true
   },
   "outputs": [],
   "source": [
    "processed_docs_all = np.concatenate((processed_train, processed_test), axis=0)"
   ]
  },
  {
   "cell_type": "code",
   "execution_count": null,
   "metadata": {
    "_cell_guid": "8db681df-c0b1-454b-9816-12268c697649",
    "_uuid": "25dc05893f29f3e60903aa802f0b1709dc0a890e",
    "collapsed": true
   },
   "outputs": [],
   "source": [
    "\n",
    "from gensim import corpora\n",
    "dictionary = corpora.Dictionary(processed_docs_all)\n",
    "dictionary_size = len(dictionary.keys())\n",
    "print (\"dictionary size: \", dictionary_size )\n",
    "    #dictionary.save('dictionary.dict')\n",
    "    #corpus = [dictionary.doc2bow(doc) for doc in processed_docs]"
   ]
  },
  {
   "cell_type": "code",
   "execution_count": null,
   "metadata": {
    "_cell_guid": "2f0f3394-d94b-43ef-af7e-0aec0fb96b03",
    "_uuid": "96e3b5cca99d154bfc7e1a6181d4479e37d0921c",
    "collapsed": true
   },
   "outputs": [],
   "source": [
    "print (\"converting to token ids...\")\n",
    "word_id_train, word_id_len = [], []\n",
    "for doc in processed_train:\n",
    "    word_ids = [dictionary.token2id[word] for word in doc]\n",
    "    word_id_train.append(word_ids)\n",
    "    word_id_len.append(len(word_ids))"
   ]
  },
  {
   "cell_type": "code",
   "execution_count": null,
   "metadata": {
    "_cell_guid": "7bf5feba-94c9-4a3e-9542-5f5f68dbfbb5",
    "_uuid": "8de5c38fcea0cd77d2b4070d5e8ab6b4cc3ec948",
    "collapsed": true
   },
   "outputs": [],
   "source": [
    "word_id_test, word_ids = [], []\n",
    "for doc in processed_test:\n",
    "    word_ids = [dictionary.token2id[word] for word in doc]\n",
    "    word_id_test.append(word_ids)\n",
    "    word_id_len.append(len(word_ids))"
   ]
  },
  {
   "cell_type": "code",
   "execution_count": null,
   "metadata": {
    "_cell_guid": "3f3324cc-13f2-41e6-92a0-6fcb56bca7c9",
    "_uuid": "6ca7959427f626dcdce8c6b46f81c58cfab55e41",
    "collapsed": true
   },
   "outputs": [],
   "source": [
    "seq_len = np.round((np.mean(word_id_len) + 2*np.std(word_id_len))).astype(int)"
   ]
  },
  {
   "cell_type": "code",
   "execution_count": null,
   "metadata": {
    "_cell_guid": "de9d0733-46dc-4d75-a937-d524e1b6efed",
    "_uuid": "1a6a98c33c19af446b37d73492f74e34ee10af2f",
    "collapsed": true
   },
   "outputs": [],
   "source": [
    "#pad sequences\n",
    "word_id_train = sequence.pad_sequences(np.array(word_id_train), maxlen=seq_len)\n",
    "word_id_test = sequence.pad_sequences(np.array(word_id_test), maxlen=seq_len)\n",
    "y_train_enc = np_utils.to_categorical(author_train,num_labels)"
   ]
  },
  {
   "cell_type": "code",
   "execution_count": null,
   "metadata": {
    "_cell_guid": "ceeef2e2-a9ab-48a1-b517-fc8b93f38795",
    "_uuid": "a09dd826e07ecdb6943ff46acb6d075545044eeb",
    "collapsed": true
   },
   "outputs": [],
   "source": [
    "print (\"fitting LSTM ...\")\n",
    "model = Sequential()\n",
    "model.add(Embedding(dictionary_size, 128, dropout=0.2))\n",
    "model.add(LSTM(128, dropout_W=0.2, dropout_U=0.2))\n",
    "model.add(Dense(num_labels))\n",
    "model.add(Activation('softmax'))\n",
    "\n",
    "model.compile(loss='categorical_crossentropy', optimizer='adam', metrics=['accuracy'])"
   ]
  },
  {
   "cell_type": "code",
   "execution_count": null,
   "metadata": {
    "_cell_guid": "d0d560e9-b761-489e-829f-421f8b102685",
    "_uuid": "50c8fed61218fec3c98332cd481989267f8ee768",
    "collapsed": true
   },
   "outputs": [],
   "source": [
    "model.fit(word_id_train, y_train_enc, nb_epoch=1, batch_size=250, verbose=1)\n",
    "test_pred = model.predict_classes(word_id_test)"
   ]
  },
  {
   "cell_type": "code",
   "execution_count": null,
   "metadata": {
    "_cell_guid": "cac5b43a-a7a0-4d16-8d36-e0fd26346fc4",
    "_uuid": "6670064af7a6f20fde0170bebee3f17112c57ae7",
    "collapsed": true
   },
   "outputs": [],
   "source": [
    "test_pred = model.predict_proba(word_id_test)"
   ]
  },
  {
   "cell_type": "code",
   "execution_count": null,
   "metadata": {
    "_cell_guid": "f30b36ee-db36-4ad4-ac34-148652efcbe1",
    "_uuid": "2fbf6b191a53d046af98b7b12c74317185d463c7",
    "collapsed": true
   },
   "outputs": [],
   "source": []
  },
  {
   "cell_type": "code",
   "execution_count": null,
   "metadata": {
    "_cell_guid": "4d001427-ebb3-4c5b-a166-0710bb5285dc",
    "_uuid": "ab1a193af6d5971950bdbf60b921d93610dce3a0",
    "collapsed": true
   },
   "outputs": [],
   "source": [
    "prob=pd.DataFrame(test_pred,columns=['EAP','HPL','MWS'])"
   ]
  },
  {
   "cell_type": "code",
   "execution_count": null,
   "metadata": {
    "_cell_guid": "f957d674-0bf0-4466-981f-f1233157684a",
    "_uuid": "fd923d9e8523a416f7109cb8c419f94577dff777",
    "collapsed": true
   },
   "outputs": [],
   "source": [
    "prob.shape"
   ]
  },
  {
   "cell_type": "code",
   "execution_count": null,
   "metadata": {
    "_cell_guid": "dc0561d5-b929-4c6e-8e54-02a8c6fac747",
    "_uuid": "a94a05129833fa57efbe258dcc0e712471592b22",
    "collapsed": true
   },
   "outputs": [],
   "source": [
    "test.head()"
   ]
  },
  {
   "cell_type": "code",
   "execution_count": null,
   "metadata": {
    "_cell_guid": "c6b2221d-fba4-4b09-874b-91ae7e6d818b",
    "_uuid": "b665e4b20abbe72f8412e36a482f8951405d4ba3",
    "collapsed": true
   },
   "outputs": [],
   "source": [
    "submit1=pd.concat([test, prob], axis=1)\n",
    "del submit1['text']"
   ]
  },
  {
   "cell_type": "code",
   "execution_count": null,
   "metadata": {
    "_cell_guid": "83356ab3-856c-41d8-9ef1-41fe4eed264a",
    "_uuid": "166f0023c1fa2169bf8372b8a5009eefb386981d",
    "collapsed": true,
    "scrolled": true
   },
   "outputs": [],
   "source": [
    "submit1.to_csv('./lstm_sentiment.csv', index=True, header=True)"
   ]
  },
  {
   "cell_type": "code",
   "execution_count": null,
   "metadata": {
    "_cell_guid": "1264c3a8-5301-48bf-a344-47895c5d6bb3",
    "_uuid": "af825bb786391fb80af408a4b13ad6721a450407",
    "collapsed": true
   },
   "outputs": [],
   "source": [
    "\n",
    "\n"
   ]
  },
  {
   "cell_type": "code",
   "execution_count": null,
   "metadata": {
    "_cell_guid": "7937bacd-119b-4093-bc0a-1bf3ccfbdeaf",
    "_uuid": "97424b1ed416cd5dcbacb0ae5b1866ac4acc90ae",
    "collapsed": true
   },
   "outputs": [],
   "source": []
  },
  {
   "cell_type": "code",
   "execution_count": null,
   "metadata": {
    "_cell_guid": "4f602e12-6ebe-45c0-a5b3-d83bc9b934db",
    "_uuid": "af01f7e6dbda713f9e6f4f07f5fe00c4dc4ba559",
    "collapsed": true
   },
   "outputs": [],
   "source": []
  },
  {
   "cell_type": "code",
   "execution_count": null,
   "metadata": {
    "_cell_guid": "7be5305f-4184-4b5f-82e1-e1ed14342e75",
    "_uuid": "79c14e6388a1f07a64efa5ab1b774619923c0ebf",
    "collapsed": true
   },
   "outputs": [],
   "source": []
  },
  {
   "cell_type": "code",
   "execution_count": null,
   "metadata": {
    "_cell_guid": "9ebfbf6f-daa2-41cc-aefb-81c1fdd89cd2",
    "_uuid": "88fedb76b487867466a3c4d389cacdf974d0fe2b",
    "collapsed": true
   },
   "outputs": [],
   "source": []
  },
  {
   "cell_type": "code",
   "execution_count": null,
   "metadata": {
    "_cell_guid": "f06122da-5128-4f55-8cae-3e19a2647d8c",
    "_uuid": "e41fadf16b4d451080fc7b32b325280ae77f0051",
    "collapsed": true
   },
   "outputs": [],
   "source": []
  }
 ],
 "metadata": {
  "kernelspec": {
   "display_name": "Python 3",
   "language": "python",
   "name": "python3"
  },
  "language_info": {
   "codemirror_mode": {
    "name": "ipython",
    "version": 3
   },
   "file_extension": ".py",
   "mimetype": "text/x-python",
   "name": "python",
   "nbconvert_exporter": "python",
   "pygments_lexer": "ipython3",
   "version": "3.6.3"
  }
 },
 "nbformat": 4,
 "nbformat_minor": 1
}
